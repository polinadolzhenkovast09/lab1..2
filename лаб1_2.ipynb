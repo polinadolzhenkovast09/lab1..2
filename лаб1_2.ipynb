{
  "nbformat": 4,
  "nbformat_minor": 0,
  "metadata": {
    "colab": {
      "provenance": []
    },
    "kernelspec": {
      "name": "python3",
      "display_name": "Python 3"
    },
    "language_info": {
      "name": "python"
    }
  },
  "cells": [
    {
      "cell_type": "markdown",
      "source": [
        "Рассчитать значение f при заданном значении вещественного числа x:\n",
        "При выводе на экран оставьте 2 знака после запятой."
      ],
      "metadata": {
        "id": "yyb7-Mrxo6ER"
      }
    },
    {
      "cell_type": "code",
      "source": [
        "# Выполнил: Долженкова Полина Викторовна\n",
        "# Группа: АБП - 231\n",
        "\n",
        "\n",
        "x = float(input())\n",
        "if x >= 0:\n",
        "    f = x**0.5 + x **2\n",
        "else:\n",
        "    f = 1 / x\n",
        "\n",
        "print(round(f,2))"
      ],
      "metadata": {
        "colab": {
          "base_uri": "https://localhost:8080/"
        },
        "id": "k-HbM5Ego9e3",
        "outputId": "097dbe56-5e56-4d77-b622-7279f14ae346"
      },
      "execution_count": null,
      "outputs": [
        {
          "output_type": "stream",
          "name": "stdout",
          "text": [
            "234\n",
            "54771.3\n"
          ]
        }
      ]
    },
    {
      "cell_type": "markdown",
      "source": [
        "Определите максимальное и минимальное значения из двух различных целых\n",
        "чисел."
      ],
      "metadata": {
        "id": "szYC8V1BY2r-"
      }
    },
    {
      "cell_type": "code",
      "source": [
        "a1 = int(input(\"Введите первое число: \"))\n",
        "a2 = int(input(\"Введите первое число: \"))\n",
        "\n",
        "# Переменная 'a_min' должна содержать минимум, 'a_max' - максимум\n",
        "if a1 > a2:\n",
        "  a_min = a2\n",
        "  a_max = a1\n",
        "else:\n",
        "  a_min = a1\n",
        "  a_max = a2\n",
        "print(f\"Минимальное значение: {a_min}, максимальное значение: {a_max}\")"
      ],
      "metadata": {
        "colab": {
          "base_uri": "https://localhost:8080/"
        },
        "id": "rFKFdNBXY7mT",
        "outputId": "772cde81-98aa-4f98-992a-edb9e541fc0a"
      },
      "execution_count": null,
      "outputs": [
        {
          "output_type": "stream",
          "name": "stdout",
          "text": [
            "Введите первое число: 12\n",
            "Введите первое число: 23\n",
            "Минимальное значение: 12, максимальное значение: 23\n"
          ]
        }
      ]
    },
    {
      "cell_type": "markdown",
      "source": [
        "Вася пытается высунуть голову в форточку размерами a и b см. Приняв условно,\n",
        "что его голова - круглая диаметром d см, определите, сможет ли Вася сделать это.\n",
        "Для прохождения головы в форточку необходим зазор в 1 см. с каждой стороны.\n",
        "Все величины - целые числа."
      ],
      "metadata": {
        "id": "oMPNKyPNZA2r"
      }
    },
    {
      "cell_type": "code",
      "source": [
        "a = int(input(\"Ширина форточки: \"))\n",
        "b = int(input(\"Высота форточки: \"))\n",
        "d = int(input(\"Диаметр головы: \"))\n",
        "\n",
        "# Введенные числа должны быть положительными, если так - осуществляем\n",
        "# расчет, иначе выводим \"Проверьте ввод\"\n",
        "\n",
        "if a < 0 or b < 0 or d < 0:\n",
        "  print (\"Проверьте ввод\")\n",
        "\n",
        "if d + 2 <= a and d + 2 <= b:\n",
        "  print (\"Да\")\n",
        "else:\n",
        "  print (\"Нет\")"
      ],
      "metadata": {
        "colab": {
          "base_uri": "https://localhost:8080/"
        },
        "id": "mIVclVL0ZDVn",
        "outputId": "f6126e5e-a2cd-4be4-f6af-24b31b7a2d69"
      },
      "execution_count": null,
      "outputs": [
        {
          "output_type": "stream",
          "name": "stdout",
          "text": [
            "Ширина форточки: 67\n",
            "Высота форточки: 95\n",
            "Диаметр головы: 76\n",
            "Нет\n"
          ]
        }
      ]
    },
    {
      "cell_type": "markdown",
      "source": [
        "Известны год и номер месяца сегодняшнего дня, а также год и номер месяца\n",
        "рождения человека (нумерация месяцев с 1: январь - 1 и т.д.). Определите возраст\n",
        "человека (число полных лет)."
      ],
      "metadata": {
        "id": "gI5gFgOSZL_f"
      }
    },
    {
      "cell_type": "code",
      "source": [
        "year_today = int(input(\"Введите текущий год: \"))\n",
        "month_today = int(input(\"Введите текущий месяц: \"))\n",
        "\n",
        "year = int(input(\"Введите год рождения: \"))\n",
        "month = int(input(\"Введите месяц рождения: \"))\n",
        "\n",
        "# Результат необходимо записать в переменную 'age'\n",
        "\n",
        "if month_today >= month:\n",
        "  age = year_today - year\n",
        "else:\n",
        "  age = year_today - year - 1\n",
        "print(\"Число полных лет: \", age)"
      ],
      "metadata": {
        "colab": {
          "base_uri": "https://localhost:8080/"
        },
        "id": "X8BLv97oZS0D",
        "outputId": "4626ed40-ffb1-4520-fffe-bb05b086a0c7"
      },
      "execution_count": null,
      "outputs": [
        {
          "output_type": "stream",
          "name": "stdout",
          "text": [
            "Введите текущий год: 2025\n",
            "Введите текущий месяц: 09\n",
            "Введите год рождения: 2005\n",
            "Введите месяц рождения: 08\n",
            "Число полных лет:  20\n"
          ]
        }
      ]
    },
    {
      "cell_type": "markdown",
      "source": [
        "Дана точка с целыми ненулевыми координатами (x;y). Определить номер четверти\n",
        "координатной плоскости, которой она принадлежит."
      ],
      "metadata": {
        "id": "R7ZBrptLZbXo"
      }
    },
    {
      "cell_type": "code",
      "source": [
        "x = int(input(\"Введите координату x: \"))\n",
        "y = int(input(\"Введите координату y: \"))\n",
        "\n",
        "if x > 0 and y > 0:\n",
        "  print(\"1-я четверть\")\n",
        "elif x < 0 and y > 0:\n",
        "  print(\"2-я четверть\")\n",
        "elif x < 0 and y < 0:\n",
        "  print(\"3-я четверть\")\n",
        "else:\n",
        "  print(\"4-я четверть\")"
      ],
      "metadata": {
        "colab": {
          "base_uri": "https://localhost:8080/"
        },
        "id": "V1L_kDFOZd6P",
        "outputId": "4056d933-d564-4824-fb2f-423bdd0b3c96"
      },
      "execution_count": null,
      "outputs": [
        {
          "output_type": "stream",
          "name": "stdout",
          "text": [
            "Введите координату x: 6\n",
            "Введите координату y: 7\n",
            "1-я четверть\n"
          ]
        }
      ]
    },
    {
      "cell_type": "markdown",
      "source": [
        "Даны вещественные числа a, b, c (a≠0).\n",
        "Решите уравнение ax2+bx+c=0. При выводе значений оставьте 1 знак после запятой."
      ],
      "metadata": {
        "id": "nmdYYpsEZk_p"
      }
    },
    {
      "cell_type": "code",
      "source": [
        "a = float(input(\"Введите a: \"))\n",
        "b = float(input(\"Введите b: \"))\n",
        "c = float(input(\"Введите c: \"))\n",
        "d = b**2 - (4 * a * c)\n",
        "if d < 0:\n",
        "  print(\"Нет корней\")\n",
        "elif d == 0:\n",
        "  x = - b / 2 * a\n",
        "  print(round(x, 1))\n",
        "else:\n",
        "  x_1 = (- b - d**0.5) /(2 * a)\n",
        "  x_2 = (- b + d**0.5) /(2 * a)\n",
        "\n",
        "  print(round(x_1, 1))\n",
        "  print(round(x_2, 1))"
      ],
      "metadata": {
        "colab": {
          "base_uri": "https://localhost:8080/"
        },
        "id": "257uukF8Zni2",
        "outputId": "a53b635c-9edd-445e-fa44-bd033c938978"
      },
      "execution_count": null,
      "outputs": [
        {
          "output_type": "stream",
          "name": "stdout",
          "text": [
            "Введите a: 7\n",
            "Введите b: 9\n",
            "Введите c: 8\n",
            "Нет корней\n"
          ]
        }
      ]
    },
    {
      "cell_type": "markdown",
      "source": [
        "Дана непустая последовательность целых чисел, оканчивающаяся нулем. Найти\n",
        "сумму и количество введенных чисел."
      ],
      "metadata": {
        "id": "zgffBgUfZuw4"
      }
    },
    {
      "cell_type": "code",
      "source": [
        "nums_sum = 0  # сумма\n",
        "nums_count = 0  # количество\n",
        "\n",
        "x = int(input(\"Введите последовательность: \"))\n",
        "while x != 0:\n",
        "  nums_sum += x % 10\n",
        "  nums_count += 1\n",
        "  x = x // 10\n",
        "\n",
        "print(f\"Сумма: {nums_sum}, количество: {nums_count}\")"
      ],
      "metadata": {
        "colab": {
          "base_uri": "https://localhost:8080/"
        },
        "id": "k6vvyjwSZyA0",
        "outputId": "934f98f8-1f0f-451f-db77-dc26923e0548"
      },
      "execution_count": null,
      "outputs": [
        {
          "output_type": "stream",
          "name": "stdout",
          "text": [
            "Введите последовательность: 23546\n",
            "Сумма: 20, количество: 5\n"
          ]
        }
      ]
    },
    {
      "cell_type": "markdown",
      "source": [
        "Дано число n. Из чисел 0,5,10,15,20,25,... напечатать те, которые не превышают n."
      ],
      "metadata": {
        "id": "kjRq_FIxZ3fj"
      }
    },
    {
      "cell_type": "code",
      "source": [
        "n = int(input(\"Введите число: \"))\n",
        "for i in range(0, n+1, 5):\n",
        "  print(i)"
      ],
      "metadata": {
        "colab": {
          "base_uri": "https://localhost:8080/"
        },
        "id": "3HAFMzHuZ5zg",
        "outputId": "580b248b-5c2e-454d-a7e5-b9866ea2c4ee"
      },
      "execution_count": null,
      "outputs": [
        {
          "output_type": "stream",
          "name": "stdout",
          "text": [
            "Введите число: 435\n",
            "0\n",
            "5\n",
            "10\n",
            "15\n",
            "20\n",
            "25\n",
            "30\n",
            "35\n",
            "40\n",
            "45\n",
            "50\n",
            "55\n",
            "60\n",
            "65\n",
            "70\n",
            "75\n",
            "80\n",
            "85\n",
            "90\n",
            "95\n",
            "100\n",
            "105\n",
            "110\n",
            "115\n",
            "120\n",
            "125\n",
            "130\n",
            "135\n",
            "140\n",
            "145\n",
            "150\n",
            "155\n",
            "160\n",
            "165\n",
            "170\n",
            "175\n",
            "180\n",
            "185\n",
            "190\n",
            "195\n",
            "200\n",
            "205\n",
            "210\n",
            "215\n",
            "220\n",
            "225\n",
            "230\n",
            "235\n",
            "240\n",
            "245\n",
            "250\n",
            "255\n",
            "260\n",
            "265\n",
            "270\n",
            "275\n",
            "280\n",
            "285\n",
            "290\n",
            "295\n",
            "300\n",
            "305\n",
            "310\n",
            "315\n",
            "320\n",
            "325\n",
            "330\n",
            "335\n",
            "340\n",
            "345\n",
            "350\n",
            "355\n",
            "360\n",
            "365\n",
            "370\n",
            "375\n",
            "380\n",
            "385\n",
            "390\n",
            "395\n",
            "400\n",
            "405\n",
            "410\n",
            "415\n",
            "420\n",
            "425\n",
            "430\n",
            "435\n"
          ]
        }
      ]
    },
    {
      "cell_type": "markdown",
      "source": [
        "Дано вещественное число a. Найдите наименьшее натуральное n, для которого\n",
        "верно"
      ],
      "metadata": {
        "id": "M23yM05uZ-g1"
      }
    },
    {
      "cell_type": "code",
      "source": [
        "a = float(input())\n",
        "n = 0\n",
        "while a >= 0:\n",
        "  n += 1\n",
        "  a = a - (1/n)\n",
        "print (n)"
      ],
      "metadata": {
        "colab": {
          "base_uri": "https://localhost:8080/"
        },
        "id": "nmumlNxBaAuI",
        "outputId": "163d9a0a-616c-407a-cfb4-c3bd53cad0cd"
      },
      "execution_count": null,
      "outputs": [
        {
          "output_type": "stream",
          "name": "stdout",
          "text": [
            "5\n",
            "83\n"
          ]
        }
      ]
    },
    {
      "cell_type": "markdown",
      "source": [
        "Дано натуральное число. Определите сумму и количество его цифр"
      ],
      "metadata": {
        "id": "dN_twrRIaE20"
      }
    },
    {
      "cell_type": "code",
      "source": [
        "n = int(input(\"Введите значение: \"))\n",
        "n_sum = 0\n",
        "n_count = 0\n",
        "while n > 0 :\n",
        "  n_sum += n % 10\n",
        "  n_count += 1\n",
        "  n = n//10\n",
        "print(f\"Сумма цифр: {n_sum}, количество цифр: {n_count}\" )"
      ],
      "metadata": {
        "colab": {
          "base_uri": "https://localhost:8080/"
        },
        "id": "y77ZXCFvaIMQ",
        "outputId": "7550fcd8-e367-4427-bfc8-0f128c872984"
      },
      "execution_count": null,
      "outputs": [
        {
          "output_type": "stream",
          "name": "stdout",
          "text": [
            "Введите значение: 35\n",
            "Сумма цифр: 8, количество цифр: 2\n"
          ]
        }
      ]
    },
    {
      "cell_type": "markdown",
      "source": [
        "Вывести в строку 10 первых натуральных чисел, оканчивающихся на цифру k,\n",
        "кратных числу s и находящихся в интервале, левая граница которого равна start."
      ],
      "metadata": {
        "id": "GDTMPLe2aNYT"
      }
    },
    {
      "cell_type": "code",
      "source": [
        "start = int(input(\"Введите стартовое значение: \"))\n",
        "k = int(input(\"Введите конечное значение: \"))\n",
        "s = int(input(\"Введите значение делителя: \"))\n",
        "n_count = 0\n",
        "c = 1\n",
        "res = []\n",
        "while n_count < 10:\n",
        "    if c % s == 0 and c % 10 == k and c > start:\n",
        "      res.append(str(c))\n",
        "      n_count += 1\n",
        "    c += 1\n",
        "print(\" \".join(res))"
      ],
      "metadata": {
        "colab": {
          "base_uri": "https://localhost:8080/",
          "height": 263
        },
        "id": "g2O7tqDmaQcx",
        "outputId": "3e1e68f6-12c0-4416-efd9-1e6ea3625c54"
      },
      "execution_count": null,
      "outputs": [
        {
          "name": "stdout",
          "output_type": "stream",
          "text": [
            "Введите стартовое значение: 20\n",
            "Введите конечное значение: 40\n",
            "Введите значение делителя: 2\n"
          ]
        },
        {
          "output_type": "error",
          "ename": "KeyboardInterrupt",
          "evalue": "",
          "traceback": [
            "\u001b[0;31m---------------------------------------------------------------------------\u001b[0m",
            "\u001b[0;31mKeyboardInterrupt\u001b[0m                         Traceback (most recent call last)",
            "\u001b[0;32m/tmp/ipython-input-1447502236.py\u001b[0m in \u001b[0;36m<cell line: 0>\u001b[0;34m()\u001b[0m\n\u001b[1;32m      5\u001b[0m \u001b[0mc\u001b[0m \u001b[0;34m=\u001b[0m \u001b[0;36m1\u001b[0m\u001b[0;34m\u001b[0m\u001b[0;34m\u001b[0m\u001b[0m\n\u001b[1;32m      6\u001b[0m \u001b[0mres\u001b[0m \u001b[0;34m=\u001b[0m \u001b[0;34m[\u001b[0m\u001b[0;34m]\u001b[0m\u001b[0;34m\u001b[0m\u001b[0;34m\u001b[0m\u001b[0m\n\u001b[0;32m----> 7\u001b[0;31m \u001b[0;32mwhile\u001b[0m \u001b[0mn_count\u001b[0m \u001b[0;34m<\u001b[0m \u001b[0;36m10\u001b[0m\u001b[0;34m:\u001b[0m\u001b[0;34m\u001b[0m\u001b[0;34m\u001b[0m\u001b[0m\n\u001b[0m\u001b[1;32m      8\u001b[0m     \u001b[0;32mif\u001b[0m \u001b[0mc\u001b[0m \u001b[0;34m%\u001b[0m \u001b[0ms\u001b[0m \u001b[0;34m==\u001b[0m \u001b[0;36m0\u001b[0m \u001b[0;32mand\u001b[0m \u001b[0mc\u001b[0m \u001b[0;34m%\u001b[0m \u001b[0;36m10\u001b[0m \u001b[0;34m==\u001b[0m \u001b[0mk\u001b[0m \u001b[0;32mand\u001b[0m \u001b[0mc\u001b[0m \u001b[0;34m>\u001b[0m \u001b[0mstart\u001b[0m\u001b[0;34m:\u001b[0m\u001b[0;34m\u001b[0m\u001b[0;34m\u001b[0m\u001b[0m\n\u001b[1;32m      9\u001b[0m       \u001b[0mres\u001b[0m\u001b[0;34m.\u001b[0m\u001b[0mappend\u001b[0m\u001b[0;34m(\u001b[0m\u001b[0mstr\u001b[0m\u001b[0;34m(\u001b[0m\u001b[0mc\u001b[0m\u001b[0;34m)\u001b[0m\u001b[0;34m)\u001b[0m\u001b[0;34m\u001b[0m\u001b[0;34m\u001b[0m\u001b[0m\n",
            "\u001b[0;31mKeyboardInterrupt\u001b[0m: "
          ]
        }
      ]
    },
    {
      "cell_type": "markdown",
      "source": [
        "Даны целые числа a и b (a может быть больше b). Напечатайте:\n",
        "числа от минимального до максимального в строчку (разделяя пробелом);\n",
        " числа от максимального до минимального «столбиком»."
      ],
      "metadata": {
        "id": "ZqtdrSyzagFO"
      }
    },
    {
      "cell_type": "code",
      "source": [
        "a = int(input(\"Введите значение a: \"))\n",
        "b = int(input(\"Введите значение b: \"))\n",
        "mx = max(a,b)\n",
        "mn = min(a,b)\n",
        "s = []\n",
        "o =[]\n",
        "for i in range(mn, mx+1, 1):\n",
        "  s.append(str(i))\n",
        "print(\" \".join(s))\n",
        "\n",
        "for i in range(mx, mn-1, -1):\n",
        "  print(i)"
      ],
      "metadata": {
        "colab": {
          "base_uri": "https://localhost:8080/"
        },
        "id": "7Qbujv1Laiw4",
        "outputId": "0280c89c-924a-452f-e05e-06f16d37c099"
      },
      "execution_count": null,
      "outputs": [
        {
          "output_type": "stream",
          "name": "stdout",
          "text": [
            "Введите значение a: 2\n",
            "Введите значение b: 3\n",
            "2 3\n",
            "3\n",
            "2\n"
          ]
        }
      ]
    },
    {
      "cell_type": "markdown",
      "source": [
        "Для введенных с клавиатуры положительных целых чисел a и b (a≤b) определите:\n",
        "сумму всех целых чисел от a до b;\n",
        "произведение всех целых чисел от a до b;\n",
        "среднее арифметическое всех целых чисел от a до b;\n",
        "среднее геометрическое нечетных чисел от a до b.\n",
        "Отрезок поиска включает сами числа a и b. При выводе вещественных результатов\n",
        "оставьте два знака после запятой"
      ],
      "metadata": {
        "id": "cwlSG1k-asOB"
      }
    },
    {
      "cell_type": "code",
      "source": [
        "import numpy as np\n",
        "\n",
        "a = int(input(\"Введите значение a: \"))\n",
        "b = int(input(\"Введите значение b: \"))\n",
        "s = 0\n",
        "p = 1\n",
        "spis = []\n",
        "for i in range(a, b+1):\n",
        "  s += i\n",
        "  p *= i\n",
        "  spis.append(i)\n",
        "\n",
        "sr = round(np.mean(spis),2)\n",
        "g =  round(np.power(np.prod(spis[0::2]), 1/len(spis[0::2])),2)\n",
        "print(\"Сумма = \" , s)\n",
        "print(\"Произведение = \", p)\n",
        "print(\"Среднее арифметическое = \" , sr)\n",
        "print(\"Среднее геометрическое = \", g)"
      ],
      "metadata": {
        "colab": {
          "base_uri": "https://localhost:8080/"
        },
        "id": "ITi7BdkGaw7U",
        "outputId": "047fa286-da80-4580-daae-d497605cb7a9"
      },
      "execution_count": null,
      "outputs": [
        {
          "output_type": "stream",
          "name": "stdout",
          "text": [
            "Введите значение a: 6\n",
            "Введите значение b: 7\n",
            "Сумма =  13\n",
            "Произведение =  42\n",
            "Среднее арифметическое =  6.5\n",
            "Среднее геометрическое =  6.0\n"
          ]
        }
      ]
    },
    {
      "cell_type": "markdown",
      "source": [
        "Начав тренировки, лыжник в первый день пробежал s км. (s>0, вещественное\n",
        "число). Каждый следующий день он увеличивал пробег на p % (0<p≤100,\n",
        "вещественное число) от пробега предыдущего дня. Определите:\n",
        " пробег лыжника за второй, третий, …, десятый день тренировок;\n",
        " какой суммарный путь он пробежал за первые 10 дней тренировок.\n",
        "При выводе вещественных результатов оставьте один знак после запятой."
      ],
      "metadata": {
        "id": "WxnVp2e4a14n"
      }
    },
    {
      "cell_type": "code",
      "source": [
        "s = float(input(\"Пробег за 1-й день (км.) = \"))\n",
        "p = float(input(\"На сколько увеличивает пробег (%) = \"))\n",
        "total = s\n",
        "\n",
        "for i in range(2,11):\n",
        "\n",
        "  s *= (p / 100) + 1\n",
        "  print(f\"Пробег за {i}-й день: {round(s,1)}\")\n",
        "  total += s\n",
        "\n",
        "print(f\"Суммарный пробег: {round(total,1)}\")"
      ],
      "metadata": {
        "colab": {
          "base_uri": "https://localhost:8080/"
        },
        "id": "0-fEWrmea5kp",
        "outputId": "855eecf2-0092-4e60-eb80-781b579057e3"
      },
      "execution_count": null,
      "outputs": [
        {
          "output_type": "stream",
          "name": "stdout",
          "text": [
            "Пробег за 1-й день (км.) = 3\n",
            "На сколько увеличивает пробег (%) = 34\n",
            "Пробег за 2-й день: 4.0\n",
            "Пробег за 3-й день: 5.4\n",
            "Пробег за 4-й день: 7.2\n",
            "Пробег за 5-й день: 9.7\n",
            "Пробег за 6-й день: 13.0\n",
            "Пробег за 7-й день: 17.4\n",
            "Пробег за 8-й день: 23.3\n",
            "Пробег за 9-й день: 31.2\n",
            "Пробег за 10-й день: 41.8\n",
            "Суммарный пробег: 155.9\n"
          ]
        }
      ]
    },
    {
      "cell_type": "markdown",
      "source": [
        "Известна масса каждого предмета в кг., загружаемого в грузовик. Определить,\n",
        "возможна ли перевозка груза, если грузоподъемность грузовика равна p кг."
      ],
      "metadata": {
        "id": "pVtvke4ea_nl"
      }
    },
    {
      "cell_type": "code",
      "source": [
        "\n",
        "p = int(input(\"Введите грузоподъемность грузовика: \"))\n",
        "n = int(input(\"Введите количество предметов: \"))\n",
        "total = 0\n",
        "for i in range(1,n+1):\n",
        "   m = int(input(f\"Введите вес {i} предмета: \"))\n",
        "   total += m\n",
        "if total > p:\n",
        "  print(\"Нет\")\n",
        "else:\n",
        "  print(\"Да\")"
      ],
      "metadata": {
        "colab": {
          "base_uri": "https://localhost:8080/"
        },
        "id": "mgzZJ4mebCHB",
        "outputId": "38930dd8-f2ee-49c9-d20c-7288cb671a01"
      },
      "execution_count": null,
      "outputs": [
        {
          "output_type": "stream",
          "name": "stdout",
          "text": [
            "Введите грузоподъемность грузовика: 3\n",
            "Введите количество предметов: 4\n",
            "Введите вес 1 предмета: 3\n",
            "Введите вес 2 предмета: 4\n",
            "Введите вес 3 предмета: 5\n",
            "Введите вес 4 предмета: 6\n",
            "Нет\n"
          ]
        }
      ]
    },
    {
      "cell_type": "markdown",
      "source": [
        "В области несколько районов. Заданы площади, засеваемые пшеницей (га.), и\n",
        "средняя урожайность (ц/га) в каждом районе.\n",
        "Определите количество пшеницы, собранное по области. При выводе\n",
        "вещественных результатов оставьте один знак после запятой."
      ],
      "metadata": {
        "id": "2rFEtwG1bMLm"
      }
    },
    {
      "cell_type": "code",
      "source": [
        "n = int(input(\"Введите количество районов: \"))\n",
        "total = 0\n",
        "for i in range(1, n + 1):\n",
        "  p = int(input(f\"Введите количество полей {i}-го района: \"))\n",
        "  s = int(input(f\"Введите среднюю урожаемость {i}-го района: \"))\n",
        "  c = p * s\n",
        "  total += c\n",
        "print(f\"Собрано пшеницы: {round(total,1)}\")"
      ],
      "metadata": {
        "colab": {
          "base_uri": "https://localhost:8080/"
        },
        "id": "lV7PYO3CbPSf",
        "outputId": "84dd4e2c-330f-4410-f6c4-29e98391d9aa"
      },
      "execution_count": null,
      "outputs": [
        {
          "output_type": "stream",
          "name": "stdout",
          "text": [
            "Введите количество районов: 3\n",
            "Введите количество полей 1-го района: 5\n",
            "Введите среднюю урожаемость 1-го района: 6\n",
            "Введите количество полей 2-го района: 7\n",
            "Введите среднюю урожаемость 2-го района: 5\n",
            "Введите количество полей 3-го района: 3\n",
            "Введите среднюю урожаемость 3-го района: 5\n",
            "Собрано пшеницы: 80\n"
          ]
        }
      ]
    },
    {
      "cell_type": "markdown",
      "source": [
        "Решите задачу № 2.7, организовав бесконечный цикл, который бы прерывался при\n",
        "выполнении условия, используя оператор break ."
      ],
      "metadata": {
        "id": "-FoA31xUbXpT"
      }
    },
    {
      "cell_type": "code",
      "source": [
        "total_sum = count = 0\n",
        "\n",
        "while True:\n",
        "    num = int(input(\"Введите число: \"))\n",
        "    if num == 0:\n",
        "        break\n",
        "    total_sum += num\n",
        "    count += 1\n",
        "\n",
        "print(f\"Количество: {count}, Сумма: {total_sum}\")\n"
      ],
      "metadata": {
        "colab": {
          "base_uri": "https://localhost:8080/",
          "height": 106
        },
        "id": "bA7jyECGbbkQ",
        "outputId": "8d864009-206f-4516-c85c-03f801894c6a"
      },
      "execution_count": null,
      "outputs": [
        {
          "output_type": "error",
          "ename": "SyntaxError",
          "evalue": "invalid syntax (ipython-input-3952938426.py, line 10)",
          "traceback": [
            "\u001b[0;36m  File \u001b[0;32m\"/tmp/ipython-input-3952938426.py\"\u001b[0;36m, line \u001b[0;32m10\u001b[0m\n\u001b[0;31m    print(f\"Количество: {count}, Сумма: {total_sum}\")8\u001b[0m\n\u001b[0m                                                     ^\u001b[0m\n\u001b[0;31mSyntaxError\u001b[0m\u001b[0;31m:\u001b[0m invalid syntax\n"
          ]
        }
      ]
    },
    {
      "cell_type": "markdown",
      "source": [
        "Предложение, введенное с клавиатуры, содержит слова из гласных и согласных\n",
        "букв кириллицы (регистр может быть различный), а также пробелы.\n",
        "Определите количество гласных и согласных букв в предложении. Для пропуска\n",
        "пробелов используйте оператор continue ."
      ],
      "metadata": {
        "id": "bh9Q3uoXbeGV"
      }
    },
    {
      "cell_type": "code",
      "source": [
        "s = str(input(\"Введите предложение: \"))\n",
        "low_reg = s.lower()\n",
        "count_gl = 0\n",
        "count_sogl = 0\n",
        "\n",
        "for i in low_reg:\n",
        "  if i in 'аеёиоуыэюя':\n",
        "    count_gl += 1\n",
        "  elif i == \" \":\n",
        "    continue\n",
        "  else:\n",
        "    count_sogl += 1\n",
        "print(f\"Количество гласных: {count_gl}, Количество согласных: {count_sogl}\")"
      ],
      "metadata": {
        "colab": {
          "base_uri": "https://localhost:8080/"
        },
        "id": "bwg6fkgAbm6p",
        "outputId": "426ff37d-2b8c-4d4d-9173-30efdaee40c1"
      },
      "execution_count": null,
      "outputs": [
        {
          "output_type": "stream",
          "name": "stdout",
          "text": [
            "Введите предложение: цацупку\n",
            "Количество гласных: 3, Количество согласных: 4\n"
          ]
        }
      ]
    },
    {
      "cell_type": "markdown",
      "source": [
        "Выведите на экран (в строку) все целые числа от a до b, кратные некоторому\n",
        "числу c."
      ],
      "metadata": {
        "id": "MC7eHkrGbraI"
      }
    },
    {
      "cell_type": "code",
      "source": [
        "a = int(input(\"Введите число начала: \"))\n",
        "b = int(input(\"Введите число конца: \"))\n",
        "c = int(input(\"Введите число-делитель: \"))\n",
        "d = []\n",
        "for i in range(a, b + 1):\n",
        "  if i % c == 0:\n",
        "    d.append(str(i))\n",
        "    i += 1\n",
        "print(\" \".join(d))"
      ],
      "metadata": {
        "colab": {
          "base_uri": "https://localhost:8080/"
        },
        "id": "XGbzg13TbuPc",
        "outputId": "8b103195-4a76-4156-87ef-c648edba7799"
      },
      "execution_count": null,
      "outputs": [
        {
          "output_type": "stream",
          "name": "stdout",
          "text": [
            "Введите число начала: 30\n",
            "Введите число конца: 6\n",
            "Введите число-делитель: 5\n",
            "\n"
          ]
        }
      ]
    },
    {
      "cell_type": "markdown",
      "source": [
        "Выведите на экран (в строку) все трехзначные натуральные числа, сумма цифр\n",
        "которых равна целому числу n (0<n≤27)."
      ],
      "metadata": {
        "id": "rbdrxV0Vbxbg"
      }
    },
    {
      "cell_type": "code",
      "source": [
        "n = int(input(\"Введите число: \"))\n",
        "s = []\n",
        "for i in range(100,1000):\n",
        "  с_3 = i % 10\n",
        "  с_2 = (i // 10) % 10\n",
        "  c_1 = i // 100\n",
        "  if с_3 + с_2 + c_1 == n:\n",
        "    s.append(str(i))\n",
        "print(\" \".join(s))"
      ],
      "metadata": {
        "colab": {
          "base_uri": "https://localhost:8080/"
        },
        "id": "pVFaks-db_jW",
        "outputId": "c05c8621-0a73-487d-8d33-89a4e1bc0d8d"
      },
      "execution_count": null,
      "outputs": [
        {
          "output_type": "stream",
          "name": "stdout",
          "text": [
            "Введите число: 5\n",
            "104 113 122 131 140 203 212 221 230 302 311 320 401 410 500\n"
          ]
        }
      ]
    },
    {
      "cell_type": "markdown",
      "source": [
        "Известно количество учеников в классе и их рост (см.); рост мальчиков условно\n",
        "задан отрицательными числами. Определите средний рост мальчиков и средний\n",
        "рост девочек.\n",
        "При выводе вещественных результатов оставьте один знак после запятой."
      ],
      "metadata": {
        "id": "MYeasVLicCb5"
      }
    },
    {
      "cell_type": "code",
      "source": [
        "n = int(input(\"Введите количество учеников: \"))\n",
        "\n",
        "r_sr_m = 0.0\n",
        "r_sr_d = 0.0\n",
        "kol_m = 0\n",
        "kol_d = 0\n",
        "for i in range(1, n +1):\n",
        "  k = float(input((f\"Введите рост {i} ученика: \")))\n",
        "  if k < 0:\n",
        "    r_sr_m += k\n",
        "    kol_m += 1\n",
        "  else:\n",
        "    r_sr_d += k\n",
        "    kol_d += 1\n",
        "  i += 1\n",
        "sr_m = (r_sr_m / kol_m) * (-1)\n",
        "sr_d = r_sr_d / kol_d\n",
        "\n",
        "print(\"Средний рост мальчиков: {:.1f}\".format(sr_m))\n",
        "print(\"Средний рост девочек: {:.1f}\".format(sr_d))"
      ],
      "metadata": {
        "colab": {
          "base_uri": "https://localhost:8080/"
        },
        "id": "dfsJPC3ccFSG",
        "outputId": "e50d7ac5-cd74-4448-b3e9-e34a2be63e78"
      },
      "execution_count": null,
      "outputs": [
        {
          "output_type": "stream",
          "name": "stdout",
          "text": [
            "Введите количество учеников: 3\n",
            "Введите рост 1 ученика: -123\n",
            "Введите рост 2 ученика: -123\n",
            "Введите рост 3 ученика: 234\n",
            "Средний рост мальчиков: 123.0\n",
            "Средний рост девочек: 234.0\n"
          ]
        }
      ]
    },
    {
      "cell_type": "markdown",
      "source": [
        "Даны n вещественных чисел. Определите максимальное и минимальное из них.\n",
        "При выводе вещественных результатов оставьте два знака после запятой."
      ],
      "metadata": {
        "id": "Vtf9K23fcZ11"
      }
    },
    {
      "cell_type": "code",
      "source": [
        "n = int(input(\"Введите количество чисел: \"))\n",
        "s = []\n",
        "for i in range(1, n+1):\n",
        "   k = float(input(f\"Введите {i} число: \"))\n",
        "   s.append(k)\n",
        "   i += 1\n",
        "mx = max(s)\n",
        "mn = min(s)\n",
        "print(f\"Максимум: {mx}, минимум: {mn}\")\n"
      ],
      "metadata": {
        "colab": {
          "base_uri": "https://localhost:8080/"
        },
        "id": "xLFBRoaKcb9u",
        "outputId": "bb71f6a6-f334-4a80-8b02-46531c4089d4"
      },
      "execution_count": null,
      "outputs": [
        {
          "output_type": "stream",
          "name": "stdout",
          "text": [
            "Введите количество чисел: 6\n",
            "Введите 1 число: 2\n",
            "Введите 2 число: 43\n",
            "Введите 3 число: 4\n",
            "Введите 4 число: 5\n",
            "Введите 5 число: 4\n",
            "Введите 6 число: 5\n",
            "Максимум: 43.0, минимум: 2.0\n"
          ]
        }
      ]
    },
    {
      "cell_type": "markdown",
      "source": [
        "Дано натуральное число n. Определите, является ли оно\n",
        "членом последовательности Фибоначчи ."
      ],
      "metadata": {
        "id": "QgxlvmDYchIe"
      }
    },
    {
      "cell_type": "code",
      "source": [
        "n = int(input(\"Введите число: \"))\n",
        "a = 0\n",
        "b = 1\n",
        "if n < 0:\n",
        "  print (\"Нет\")\n",
        "elif n == 0 or n == 1:\n",
        "  print (\"Да\")\n",
        "else:\n",
        "  while b < n:\n",
        "    c = a + b\n",
        "    a = b\n",
        "    b = c\n",
        "  if b == n:\n",
        "    print (\"да\")\n",
        "  else:\n",
        "    print (\"нет\")"
      ],
      "metadata": {
        "colab": {
          "base_uri": "https://localhost:8080/"
        },
        "id": "07b5SerUcjxQ",
        "outputId": "a419e67b-915b-4989-8344-210313544f34"
      },
      "execution_count": null,
      "outputs": [
        {
          "output_type": "stream",
          "name": "stdout",
          "text": [
            "Введите число: 34\n",
            "Является\n"
          ]
        }
      ]
    },
    {
      "cell_type": "markdown",
      "source": [
        "Дано n вещественных чисел. Определите, является ли последовательность\n",
        "упорядоченной по возрастанию. В случае отрицательного ответа выведите\n",
        "порядковый номер числа, нарушающего такую упорядоченность."
      ],
      "metadata": {
        "id": "fWUEbpHAcsgl"
      }
    },
    {
      "cell_type": "code",
      "source": [
        "n = int(input(\"Введите количество чисел: \"))\n",
        "\n",
        "index = -1\n",
        "s = []\n",
        "for i in range(1, n + 1):\n",
        "    num = float(input(f\"Введите {i} число = \"))\n",
        "    s.append(num)\n",
        "\n",
        "\n",
        "for j in range(0, n - 1):\n",
        "    if s[j] >= s[j + 1]:\n",
        "        index = j + 2\n",
        "        break\n",
        "\n",
        "if index == -1:\n",
        "    print(\"упорядочена по возрастанию\")\n",
        "else:\n",
        "    print(f\"Не упорядоченная, порядковый номер числа: {index}\")"
      ],
      "metadata": {
        "colab": {
          "base_uri": "https://localhost:8080/"
        },
        "id": "TLsuJQKjcvdF",
        "outputId": "380de68c-ca77-406f-bdd6-020e2b2d2fd0"
      },
      "execution_count": null,
      "outputs": [
        {
          "output_type": "stream",
          "name": "stdout",
          "text": [
            "Введите количество чисел: 4\n",
            "Введите 1 число = 23\n",
            "Введите 2 число = 234\n",
            "Введите 3 число = 434\n",
            "Введите 4 число = 346\n",
            "Не упорядоченная, порядковый номер числа: 4\n"
          ]
        }
      ]
    },
    {
      "cell_type": "markdown",
      "source": [
        "Выведите на экран таблицу умножения на n (2<n≤9) в виде:"
      ],
      "metadata": {
        "id": "PhBpaY3XdAJ1"
      }
    },
    {
      "cell_type": "code",
      "source": [
        "n = int(input(\"Введите число n: \"))\n",
        "if n <= 2 or n > 9:\n",
        "    print(\"n должно быть в диапазоне 2 < n ≤ 9\")\n",
        "else:\n",
        "    for i in range(1, n+1):\n",
        "        for j in range(1, n+1):\n",
        "            print(f\"{i} × {j} = {i*j:2}\", end=\"   \")\n",
        "        print()"
      ],
      "metadata": {
        "colab": {
          "base_uri": "https://localhost:8080/"
        },
        "id": "Zy3G5ZBCdCy-",
        "outputId": "918a6ac3-2b90-40a8-d6ba-ddaeff6079b4"
      },
      "execution_count": null,
      "outputs": [
        {
          "output_type": "stream",
          "name": "stdout",
          "text": [
            "Введите число n: 4\n",
            "1 × 1 =  1   1 × 2 =  2   1 × 3 =  3   1 × 4 =  4   \n",
            "2 × 1 =  2   2 × 2 =  4   2 × 3 =  6   2 × 4 =  8   \n",
            "3 × 1 =  3   3 × 2 =  6   3 × 3 =  9   3 × 4 = 12   \n",
            "4 × 1 =  4   4 × 2 =  8   4 × 3 = 12   4 × 4 = 16   \n"
          ]
        }
      ]
    },
    {
      "cell_type": "markdown",
      "source": [
        "Выведите графическое изображения делимости чисел от 1\n",
        "до n (значение n вводится с клавиатуры) - в каждой строке напечатайте очередное\n",
        "число и столько символов * , сколько делителей у этого числа.\n",
        "Например, если n=4, на экране должно быть напечатано:"
      ],
      "metadata": {
        "id": "UL53WG2OdazH"
      }
    },
    {
      "cell_type": "code",
      "source": [
        "n = int(input(\"Введите количество чисел: \"))\n",
        "for i in range(1, n + 1):\n",
        "  k = 0\n",
        "  for j in range(1, i + 1):\n",
        "    if i % j == 0:\n",
        "      k += 1\n",
        "  print(i , k * \"*\")"
      ],
      "metadata": {
        "colab": {
          "base_uri": "https://localhost:8080/"
        },
        "id": "Hka_x1b6dezS",
        "outputId": "555cae7c-0bc1-4fd4-fe0b-3aeb33849889"
      },
      "execution_count": null,
      "outputs": [
        {
          "output_type": "stream",
          "name": "stdout",
          "text": [
            "Введите количество чисел: 3\n",
            "1 *\n",
            "2 **\n",
            "3 **\n"
          ]
        }
      ]
    },
    {
      "cell_type": "markdown",
      "source": [
        "Выведите на экран (в строку) n первых простых чисел."
      ],
      "metadata": {
        "id": "LXS2AelPdj7S"
      }
    },
    {
      "cell_type": "code",
      "source": [
        "n = int(input(\"Введите число: \"))\n",
        "\n",
        "spisok = []\n",
        "a = 2\n",
        "while len(spisok) < n:\n",
        "  deliteli = 0\n",
        "  for i in range(1, a + 1):\n",
        "    if a % i == 0:\n",
        "      deliteli += 1\n",
        "  if deliteli == 2:\n",
        "    spisok.append(str(a))\n",
        "  a += 1\n",
        "print(\" \".join(spisok))"
      ],
      "metadata": {
        "colab": {
          "base_uri": "https://localhost:8080/"
        },
        "id": "rZgaJ_TrdmVP",
        "outputId": "52fb8808-9237-44fc-93cf-1d76c7632688"
      },
      "execution_count": null,
      "outputs": [
        {
          "output_type": "stream",
          "name": "stdout",
          "text": [
            "Введите число: 5\n",
            "2 3 5 7 11\n"
          ]
        }
      ]
    },
    {
      "cell_type": "markdown",
      "source": [
        "Составьте программу для нахождения всех натуральных решений\n",
        "уравнения x2+y2+z2=k2\n",
        ", где x,y,z∈[1,30], а k вводится с клавиатуры."
      ],
      "metadata": {
        "id": "z4Gk12SXdu7w"
      }
    },
    {
      "cell_type": "code",
      "source": [
        "k = int(input(\"Введите значение k: \"))\n",
        "for x in range(1, 31):\n",
        "  for y in range(1, 31):\n",
        "    for z in range(1, 31):\n",
        "      if (x ** 2) + (y ** 2) + (z ** 2) == k ** 2:\n",
        "        print(f\"x = {x}, y = {y}, z = {z}\")"
      ],
      "metadata": {
        "colab": {
          "base_uri": "https://localhost:8080/"
        },
        "id": "lXol25HAdxZy",
        "outputId": "a7da1d61-df73-4bfe-df45-bd9bcdb9a2e3"
      },
      "execution_count": null,
      "outputs": [
        {
          "output_type": "stream",
          "name": "stdout",
          "text": [
            "Введите значение k: 30\n",
            "x = 4, y = 10, z = 28\n",
            "x = 4, y = 20, z = 22\n",
            "x = 4, y = 22, z = 20\n",
            "x = 4, y = 28, z = 10\n",
            "x = 10, y = 4, z = 28\n",
            "x = 10, y = 20, z = 20\n",
            "x = 10, y = 28, z = 4\n",
            "x = 20, y = 4, z = 22\n",
            "x = 20, y = 10, z = 20\n",
            "x = 20, y = 20, z = 10\n",
            "x = 20, y = 22, z = 4\n",
            "x = 22, y = 4, z = 20\n",
            "x = 22, y = 20, z = 4\n",
            "x = 28, y = 4, z = 10\n",
            "x = 28, y = 10, z = 4\n"
          ]
        }
      ]
    },
    {
      "cell_type": "markdown",
      "source": [
        "Дан список из n вещественных чисел, введенных с клавиатуры (среди чисел есть\n",
        "по крайней мере одно положительное и отрицательное число).\n",
        "Сформируйте из него 2 списка:\n",
        " положительных чисел, используя списковые включения;\n",
        " отрицательных чисел, не используя списковые включения.\n",
        "Выведите на экран:\n",
        " исходный список;\n",
        " получившиеся списки;\n",
        " среднее арифметическое первого списка и среднее геометрическое\n",
        "второго списка.\n",
        "При выводе вещественных результатов оставьте два знака после запятой."
      ],
      "metadata": {
        "id": "nYO1JpYxeA-b"
      }
    },
    {
      "cell_type": "code",
      "source": [
        "import numpy as np\n",
        "n = int(input(\"Введите количество чисел: \"))\n",
        "numbers = []\n",
        "for j in range(n):\n",
        "    num = float(input(f\"Введите число {j+1}: \"))\n",
        "    numbers.append(num)\n",
        "\n",
        "polog = [num for num in numbers if num > 0]\n",
        "otr = []\n",
        "for k in numbers:\n",
        "  if k < 0:\n",
        "    otr.append(k)\n",
        "ar = sum(polog) / len(polog)\n",
        "sr = np.prod(otr) ** (1/len(otr))\n",
        "print(f\"Исходный список: {numbers}\")\n",
        "print(f\"ПОложительные числа: {polog}\")\n",
        "print(f\"Отрицательные числа: {otr}\")\n",
        "print(f\"Среднее арифметическое: {round(ar,2)}\")\n",
        "print(f\"Среднее геометрическое: {round(sr,2)}\")"
      ],
      "metadata": {
        "colab": {
          "base_uri": "https://localhost:8080/",
          "height": 297
        },
        "id": "lc4Czp-beEv1",
        "outputId": "bdced7bc-5505-444c-aac0-b528c4c7654d"
      },
      "execution_count": null,
      "outputs": [
        {
          "name": "stdout",
          "output_type": "stream",
          "text": [
            "Введите количество чисел: 4\n",
            "Введите число 1: 24\n",
            "Введите число 2: 34\n",
            "Введите число 3: 46\n",
            "Введите число 4: 56\n"
          ]
        },
        {
          "output_type": "error",
          "ename": "ZeroDivisionError",
          "evalue": "division by zero",
          "traceback": [
            "\u001b[0;31m---------------------------------------------------------------------------\u001b[0m",
            "\u001b[0;31mZeroDivisionError\u001b[0m                         Traceback (most recent call last)",
            "\u001b[0;32m/tmp/ipython-input-3119309264.py\u001b[0m in \u001b[0;36m<cell line: 0>\u001b[0;34m()\u001b[0m\n\u001b[1;32m     12\u001b[0m     \u001b[0motr\u001b[0m\u001b[0;34m.\u001b[0m\u001b[0mappend\u001b[0m\u001b[0;34m(\u001b[0m\u001b[0mk\u001b[0m\u001b[0;34m)\u001b[0m\u001b[0;34m\u001b[0m\u001b[0;34m\u001b[0m\u001b[0m\n\u001b[1;32m     13\u001b[0m \u001b[0mar\u001b[0m \u001b[0;34m=\u001b[0m \u001b[0msum\u001b[0m\u001b[0;34m(\u001b[0m\u001b[0mpolog\u001b[0m\u001b[0;34m)\u001b[0m \u001b[0;34m/\u001b[0m \u001b[0mlen\u001b[0m\u001b[0;34m(\u001b[0m\u001b[0mpolog\u001b[0m\u001b[0;34m)\u001b[0m\u001b[0;34m\u001b[0m\u001b[0;34m\u001b[0m\u001b[0m\n\u001b[0;32m---> 14\u001b[0;31m \u001b[0msr\u001b[0m \u001b[0;34m=\u001b[0m \u001b[0mnp\u001b[0m\u001b[0;34m.\u001b[0m\u001b[0mprod\u001b[0m\u001b[0;34m(\u001b[0m\u001b[0motr\u001b[0m\u001b[0;34m)\u001b[0m \u001b[0;34m**\u001b[0m \u001b[0;34m(\u001b[0m\u001b[0;36m1\u001b[0m\u001b[0;34m/\u001b[0m\u001b[0mlen\u001b[0m\u001b[0;34m(\u001b[0m\u001b[0motr\u001b[0m\u001b[0;34m)\u001b[0m\u001b[0;34m)\u001b[0m\u001b[0;34m\u001b[0m\u001b[0;34m\u001b[0m\u001b[0m\n\u001b[0m\u001b[1;32m     15\u001b[0m \u001b[0mprint\u001b[0m\u001b[0;34m(\u001b[0m\u001b[0;34mf\"Исходный список: {numbers}\"\u001b[0m\u001b[0;34m)\u001b[0m\u001b[0;34m\u001b[0m\u001b[0;34m\u001b[0m\u001b[0m\n\u001b[1;32m     16\u001b[0m \u001b[0mprint\u001b[0m\u001b[0;34m(\u001b[0m\u001b[0;34mf\"ПОложительные числа: {polog}\"\u001b[0m\u001b[0;34m)\u001b[0m\u001b[0;34m\u001b[0m\u001b[0;34m\u001b[0m\u001b[0m\n",
            "\u001b[0;31mZeroDivisionError\u001b[0m: division by zero"
          ]
        }
      ]
    },
    {
      "cell_type": "markdown",
      "source": [
        "Дан список целых чисел, введенных с клавиатуры (длина неизвестна). Ответьте на\n",
        "вопросы:\n",
        " являются ли все элементы положительными числами?\n",
        " есть ли хотя бы один нулевой элемент в списке?\n",
        " являются ли все элементы четными числами?\n",
        " есть ли хотя бы один нечетный элемент в списке?\n",
        "Каждый из пунктов выполните дважды: используя стандартный проход в цикле\n",
        "(например, через алгоритм с флажком), и используя\n",
        "функции any() и/или all() ."
      ],
      "metadata": {
        "id": "to4MWdorePBK"
      }
    },
    {
      "cell_type": "code",
      "source": [
        "\n",
        "n = int(input(\"Введите количество чисел: \"))\n",
        "num = []\n",
        "for i in range(1 , n + 1):\n",
        "  k = int(input(f\"Введите число {i}: \"))\n",
        "  num.append(k)\n",
        "# цикл положительных чисел\n",
        "flag = -1\n",
        "for j in num:\n",
        "  if j < 0:\n",
        "    flag = 1\n",
        "\n",
        "if flag == -1:\n",
        "  print(\"все положительные\")\n",
        "else:\n",
        "  print(\" есть отрицательные\")\n",
        "\n",
        "\n",
        "p = all(j > 0 for j in num)\n",
        "if p:\n",
        "  print(\"все положительные\")\n",
        "else:\n",
        "  print(\" есть отрицательные\")\n",
        "\n",
        "# цикл нулевого элемента\n",
        "flag = -1\n",
        "for j in num:\n",
        "  if j == 0:\n",
        "    flag = 1\n",
        "\n",
        "if flag == 1:\n",
        "  print(\"есть ноль\")\n",
        "else:\n",
        "  print(\"нуля нет\")\n",
        "\n",
        "n = any(j == 0 for j in num)\n",
        "if n:\n",
        "  print(\"есть ноль\")\n",
        "else:\n",
        "  print(\"нуля нет\")\n",
        "\n",
        "# цикл четности чисел\n",
        "\n",
        "flag = -1\n",
        "for j in num:\n",
        "  if j % 2 ==  0:\n",
        "    flag = 1\n",
        "\n",
        "if flag == -1:\n",
        "  print(\" все четные\")\n",
        "else:\n",
        "  print(\"есть нечетные\")\n",
        "\n",
        "c = all(j % 2 == 0 for j in num)\n",
        "if c:\n",
        "  print(\"все четные\")\n",
        "else:\n",
        "  print(\"есть нечетные\")\n",
        "\n",
        "#Поиск нечетного числа\n",
        "\n",
        "flag = -1\n",
        "for j in num:\n",
        "  if j % 2 !=  0:\n",
        "    flag = 1\n",
        "\n",
        "if flag == 1:\n",
        "  print(\" есть нечетное\")\n",
        "else:\n",
        "  print(\"все четные\")\n",
        "\n",
        "d = any(j % 2 != 0 for j in num)\n",
        "if d:\n",
        "  print(\"есть нечетное\")\n",
        "else:\n",
        "  print(\"все четные\")"
      ],
      "metadata": {
        "colab": {
          "base_uri": "https://localhost:8080/"
        },
        "id": "pM4seNmdeR-2",
        "outputId": "7c51c5a0-54f2-4972-8cee-4487b073cfb1"
      },
      "execution_count": null,
      "outputs": [
        {
          "output_type": "stream",
          "name": "stdout",
          "text": [
            "Введите количество чисел: 4\n",
            "Введите число 1: 2\n",
            "Введите число 2: 5\n",
            "Введите число 3: 6\n",
            "Введите число 4: 4\n",
            "все положительные\n",
            "все положительные\n",
            "нуля нет\n",
            "нуля нет\n",
            "есть нечетные\n",
            "есть нечетные\n",
            " есть нечетное\n",
            "есть нечетное\n"
          ]
        }
      ]
    },
    {
      "cell_type": "markdown",
      "source": [
        "Дано предложение. Выведите его на экран, удалив из него все слова, содержащие\n",
        "произвольную букву (вводится с клавиатуры).\n"
      ],
      "metadata": {
        "id": "_w2TrqvEel4N"
      }
    },
    {
      "cell_type": "code",
      "source": [
        "sentence = input(\"Введите предложение: \")\n",
        "letter = input(\"Введите букву для удаления: \")\n",
        "\n",
        "result = ' '.join([word for word in sentence.split() if letter.lower() not in word.lower()])\n",
        "\n",
        "print(\"Результат:\", result)"
      ],
      "metadata": {
        "colab": {
          "base_uri": "https://localhost:8080/"
        },
        "id": "3chZVBBaeog8",
        "outputId": "a9fc34ed-750e-4d83-ccd5-adf88cf56198"
      },
      "execution_count": null,
      "outputs": [
        {
          "output_type": "stream",
          "name": "stdout",
          "text": [
            "Введите предложение: моррлодр цуоар\n",
            "Введите букву для удаления: а\n",
            "Результат: моррлодр\n"
          ]
        }
      ]
    },
    {
      "cell_type": "markdown",
      "source": [
        "В зрительном зале кинотеатра n рядов, количество мест в которых может меняться.\n",
        "Разработчик смоделировал занятость мест как двумерный массив (список из\n",
        "списков), где каждый вложенный список содержит информацию о проданных\n",
        "местах в соответствующем ряду (1 - занято, 0 - свободно):\n",
        "[\n",
        " [0, 0, 1], # 1 ряд, первые 2 места свободны\n",
        " [1, 1, 1, 1], # 2 ряд, все места заняты\n",
        "...\n",
        "]\n",
        "Напишите программу, которая позволит пользователю увидеть количество\n",
        "свободных мест, а также, введя номер ряда и места, получить информацию -\n",
        "свободно оно или нет. Данные о занятости мест вводятся с клавиатуры (набор из 0\n",
        "и 1 для каждого ряда)."
      ],
      "metadata": {
        "id": "01ef7OwLezTY"
      }
    },
    {
      "cell_type": "code",
      "source": [
        "n = int(input('Количество рядов = '))\n",
        "\n",
        "seats = []\n",
        "for i in range(n):\n",
        "    row = [int(item) for item in input().split()]\n",
        "    seats.append(row)\n",
        "\n",
        "\n",
        "n_p, m_p = [int(item) for item in input(\"Введите ряд и место через пробел: \").split()]\n",
        "\n",
        "row_index = n_p - 1\n",
        "seat_index = m_p - 1\n",
        "\n",
        "\n",
        "if row_index < 0 or row_index >= len(seats):\n",
        "    print(\"Такого ряда не существует\")\n",
        "elif seat_index < 0 or seat_index >= len(seats[row_index]):\n",
        "    print(\"Такого места не существует\")\n",
        "else:\n",
        "    is_free = seats[row_index][seat_index] == 0\n",
        "    print(f\"Место свободно: {is_free}\")"
      ],
      "metadata": {
        "colab": {
          "base_uri": "https://localhost:8080/"
        },
        "id": "Ml5TLcahe2zG",
        "outputId": "36fcfcf6-fede-4b7e-806d-3bb5e7371820"
      },
      "execution_count": null,
      "outputs": [
        {
          "output_type": "stream",
          "name": "stdout",
          "text": [
            "Количество рядов = 4\n",
            "32\n",
            "23\n",
            "4\n",
            "3\n",
            "Введите ряд и место через пробел: 3 4\n",
            "Такого места не существует\n"
          ]
        }
      ]
    },
    {
      "cell_type": "markdown",
      "source": [
        "Вводится список из n сотрудников в формате:\n",
        "Фамилия Имя Отчество Пол Стаж\n",
        "где:\n",
        " все значения разделены пробелом и сами не содержат пробелов;\n",
        " Пол : \"М\" или \"Ж\" ;\n",
        " Стаж : количество полных лет, отработанных в компании.\n",
        "Сохраните введенные задания в виде списка списков:\n",
        "[\n",
        " [\"Петрова\", \"Анна\", \"Алексеевна\", \"Ж\", 5],\n",
        " [\"Семенов\", \"Николай\", \"Михайлович\", \"М\", 2],\n",
        "...\n",
        "]\n",
        "Далее:\n",
        " определите самого «молодого» и самого «старого» сотрудника, используя\n",
        "функцию sorted() ;\n",
        " сформируйте 2 отельных списка: мужчин и женщин и ответьте, в каком из\n",
        "списков больше имен, начинающихся на букву k (вводится с клавиатуры)"
      ],
      "metadata": {
        "id": "pXXhX2eGfJf1"
      }
    },
    {
      "cell_type": "code",
      "source": [
        "n = int(input('n = '))\n",
        "\n",
        "employees = []\n",
        "\n",
        "for i in range(n):\n",
        "  data = input().split()\n",
        "  data[4] = int(data[4])\n",
        "  employees.append(data)\n",
        "\n",
        "sort = sorted(employees, key=lambda x: x[4])\n",
        "\n",
        "employee_min = sort[0]\n",
        "employee_max = sort[-1]\n",
        "print(\"Cамый \\\"молодой\\\": {}\".format(\" \".join(employee_min[:3])))\n",
        "print(\"Cамый \\\"старый\\\": {}\".format(\" \".join(employee_max[:3])))\n",
        "\n",
        "\n",
        "men = [emp for emp in employees if emp[3] == \"М\"]\n",
        "women = [emp for emp in employees if emp[3] == \"Ж\"]\n",
        "\n",
        "k = input(\"Введите букву начала имени = \").upper()\n",
        "\n",
        "men_k_count = 0\n",
        "for man in men:\n",
        "    if man[1][0].upper() == k:\n",
        "        men_k_count += 1\n",
        "\n",
        "women_k_count = 0\n",
        "for woman in women:\n",
        "    if woman[1][0].upper() == k:\n",
        "        women_k_count += 1\n",
        "\n",
        "if men_k_count > women_k_count:\n",
        "    print(\"У мужчин таких имен больше\")\n",
        "elif women_k_count > men_k_count:\n",
        "    print(\"У женщин таких имен больше\")\n",
        "else:\n",
        "    print(\"Количество таких имен одинаково\")"
      ],
      "metadata": {
        "id": "Ao3XUV6QfMW0"
      },
      "execution_count": null,
      "outputs": []
    },
    {
      "cell_type": "markdown",
      "source": [
        "Вводится список из n годовых вкладов, предлагаемых банками, в формате:\n",
        "Банк Сумма Процент\n",
        "где:\n",
        " все значения разделены пробелом и сами не содержат пробелов;\n",
        " наименование банка уникально;\n",
        " Сумма : сумма для открытия вклада в руб. (целое число, >0);\n",
        " Процент : годовой процент по вкладу (вещественное число, (0,100]).\n",
        "Сохраните введенные данные в виде списка словарей:\n",
        "[\n",
        " {\"name\": \"Банк 1\", \"initial_sum\": 50000, \"rate\": 5.2},\n",
        "...\n",
        "]\n",
        "Далее определите (гарантируется, что искомый банк - один):\n",
        " самый доступный банк (с наименьшей первоначальной суммой);\n",
        " самый выгодный банк, принимая, что за\n",
        "год прибыль = сумма * процент / 100 .\n",
        "При выводе финансовых значений оставьте два знака после запятой."
      ],
      "metadata": {
        "id": "VLW8OyI7fPad"
      }
    },
    {
      "cell_type": "code",
      "source": [
        "n = int(input())\n",
        "\n",
        "# Создаем список для хранения данных о вкладах\n",
        "deposits = []\n",
        "\n",
        "# Вводим данные о вкладах\n",
        "for i in range(n):\n",
        "    data = input().split()\n",
        "    bank_name = data[0]\n",
        "    initial_sum = int(data[1])\n",
        "    rate = float(data[2])\n",
        "\n",
        "    deposit = {\n",
        "        \"name\": bank_name,\n",
        "        \"initial_sum\": initial_sum,\n",
        "        \"rate\": rate\n",
        "    }\n",
        "    deposits.append(deposit)\n",
        "\n",
        "# Находим самый доступный банк (с наименьшей первоначальной суммой)\n",
        "min_bank = deposits[0]\n",
        "for bank in deposits:\n",
        "    if bank[\"initial_sum\"] < min_bank[\"initial_sum\"]:\n",
        "        min_bank = bank\n",
        "\n",
        "# Находим самый выгодный банк (с максимальной прибылью)\n",
        "max_profit_bank = deposits[0]\n",
        "max_profit = max_profit_bank[\"initial_sum\"] * max_profit_bank[\"rate\"] / 100\n",
        "\n",
        "for bank in deposits:\n",
        "    profit = bank[\"initial_sum\"] * bank[\"rate\"] / 100\n",
        "    if profit > max_profit:\n",
        "        max_profit = profit\n",
        "        max_profit_bank = bank\n",
        "\n",
        "# Выводим результаты\n",
        "print(f'Самый доступный банк: {min_bank[\"name\"]}')\n",
        "print(f'Самый выгодный банк: {max_profit_bank[\"name\"]}')\n",
        "print(f'Доходность: {max_profit:.2f}')"
      ],
      "metadata": {
        "id": "Y3eVHUv_fSXb"
      },
      "execution_count": null,
      "outputs": []
    }
  ]
}